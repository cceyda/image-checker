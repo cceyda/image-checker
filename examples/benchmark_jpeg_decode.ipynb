{
 "cells": [
  {
   "cell_type": "code",
   "execution_count": 1,
   "metadata": {
    "execution": {
     "iopub.execute_input": "2020-11-12T11:32:45.786276Z",
     "iopub.status.busy": "2020-11-12T11:32:45.785366Z",
     "iopub.status.idle": "2020-11-12T11:32:46.479109Z",
     "shell.execute_reply": "2020-11-12T11:32:46.478301Z",
     "shell.execute_reply.started": "2020-11-12T11:32:45.786109Z"
    }
   },
   "outputs": [],
   "source": [
    "import io\n",
    "import time\n",
    "\n",
    "import numpy as np\n",
    "import torch\n",
    "from image_checker.checker import batch\n",
    "from image_checker.DaliChecker import DaliChecker\n",
    "from image_checker.iterators import folder_iterator\n",
    "from PIL import Image\n",
    "from torchvision import transforms as t\n",
    "from torchvision.io import decode_image, read_image\n",
    "from more_itertools import chunked"
   ]
  },
  {
   "cell_type": "code",
   "execution_count": 2,
   "metadata": {
    "execution": {
     "iopub.execute_input": "2020-11-12T11:32:46.481183Z",
     "iopub.status.busy": "2020-11-12T11:32:46.480397Z",
     "iopub.status.idle": "2020-11-12T11:32:46.525523Z",
     "shell.execute_reply": "2020-11-12T11:32:46.524578Z",
     "shell.execute_reply.started": "2020-11-12T11:32:46.480915Z"
    }
   },
   "outputs": [],
   "source": [
    "img_count=256\n",
    "files=folder_iterator(\"/mnt/data/dali_test/fine/\",extensions=[\"jpg\",\"jpeg\"],recursive=False)\n",
    "images_bytes=[im for im,path in files][:img_count]"
   ]
  },
  {
   "cell_type": "markdown",
   "metadata": {},
   "source": [
    "# PIL-SIMD"
   ]
  },
  {
   "cell_type": "code",
   "execution_count": 3,
   "metadata": {
    "execution": {
     "iopub.execute_input": "2020-11-12T11:32:46.658868Z",
     "iopub.status.busy": "2020-11-12T11:32:46.658025Z",
     "iopub.status.idle": "2020-11-12T11:32:46.675658Z",
     "shell.execute_reply": "2020-11-12T11:32:46.674423Z",
     "shell.execute_reply.started": "2020-11-12T11:32:46.658773Z"
    }
   },
   "outputs": [],
   "source": [
    "#doing this here so it doesn't effect time\n",
    "images_bytes_io=[io.BytesIO(i) for i in images_bytes]"
   ]
  },
  {
   "cell_type": "code",
   "execution_count": 5,
   "metadata": {
    "execution": {
     "iopub.execute_input": "2020-11-12T11:32:55.125751Z",
     "iopub.status.busy": "2020-11-12T11:32:55.123150Z",
     "iopub.status.idle": "2020-11-12T11:34:05.659290Z",
     "shell.execute_reply": "2020-11-12T11:34:05.657742Z",
     "shell.execute_reply.started": "2020-11-12T11:32:55.125115Z"
    }
   },
   "outputs": [
    {
     "name": "stdout",
     "output_type": "stream",
     "text": [
      "705 ms ± 20.2 ms per loop (mean ± std. dev. of 100 runs, 1 loop each)\n"
     ]
    }
   ],
   "source": [
    "%%timeit -n 1 -r 100\n",
    "# PIL_SIMD\n",
    "for image_bytes in images_bytes_io:\n",
    "    z=Image.open(image_bytes)\n",
    "    z=t.functional.pil_to_tensor(z)\n",
    "#     z.to(\"cuda:0\")"
   ]
  },
  {
   "cell_type": "markdown",
   "metadata": {},
   "source": [
    "# Torchvision"
   ]
  },
  {
   "cell_type": "code",
   "execution_count": 6,
   "metadata": {
    "execution": {
     "iopub.execute_input": "2020-11-12T11:34:05.663674Z",
     "iopub.status.busy": "2020-11-12T11:34:05.663241Z",
     "iopub.status.idle": "2020-11-12T11:34:57.278370Z",
     "shell.execute_reply": "2020-11-12T11:34:57.277045Z",
     "shell.execute_reply.started": "2020-11-12T11:34:05.663610Z"
    }
   },
   "outputs": [
    {
     "name": "stdout",
     "output_type": "stream",
     "text": [
      "516 ms ± 14.4 ms per loop (mean ± std. dev. of 100 runs, 1 loop each)\n"
     ]
    }
   ],
   "source": [
    "%%timeit -n 1 -r 100\n",
    "for image_bytes in images_bytes:\n",
    "    z=torch.from_numpy(image_bytes)\n",
    "    z=decode_image(z)\n",
    "#     z.to(\"cuda:0\")"
   ]
  },
  {
   "cell_type": "markdown",
   "metadata": {},
   "source": [
    "# Nvidia DALI (nvJPEG on GPU)"
   ]
  },
  {
   "cell_type": "code",
   "execution_count": 7,
   "metadata": {
    "execution": {
     "iopub.execute_input": "2020-11-12T11:34:57.280492Z",
     "iopub.status.busy": "2020-11-12T11:34:57.280214Z",
     "iopub.status.idle": "2020-11-12T11:34:58.765517Z",
     "shell.execute_reply": "2020-11-12T11:34:58.764422Z",
     "shell.execute_reply.started": "2020-11-12T11:34:57.280456Z"
    }
   },
   "outputs": [],
   "source": [
    "batch_size=256\n",
    "dali_decoder = DaliChecker(batch_size, prefetch=1, device='mixed') # mixed means GPU+CPU"
   ]
  },
  {
   "cell_type": "code",
   "execution_count": 8,
   "metadata": {
    "execution": {
     "iopub.execute_input": "2020-11-12T11:34:58.767258Z",
     "iopub.status.busy": "2020-11-12T11:34:58.766903Z",
     "iopub.status.idle": "2020-11-12T11:34:58.772908Z",
     "shell.execute_reply": "2020-11-12T11:34:58.772127Z",
     "shell.execute_reply.started": "2020-11-12T11:34:58.767220Z"
    }
   },
   "outputs": [],
   "source": [
    "batches_of_image_bytes=list(chunked(images_bytes,batch_size))"
   ]
  },
  {
   "cell_type": "code",
   "execution_count": 9,
   "metadata": {
    "execution": {
     "iopub.execute_input": "2020-11-12T11:34:58.775633Z",
     "iopub.status.busy": "2020-11-12T11:34:58.775285Z",
     "iopub.status.idle": "2020-11-12T11:35:18.803825Z",
     "shell.execute_reply": "2020-11-12T11:35:18.802967Z",
     "shell.execute_reply.started": "2020-11-12T11:34:58.775590Z"
    }
   },
   "outputs": [
    {
     "name": "stdout",
     "output_type": "stream",
     "text": [
      "200 ms ± 14.5 ms per loop (mean ± std. dev. of 100 runs, 1 loop each)\n"
     ]
    }
   ],
   "source": [
    "%%timeit -n 1 -r 100\n",
    "for image_bytes in batches_of_image_bytes:\n",
    "    dali_decoder.feed(image_bytes)\n",
    "    dali_tensor=dali_decoder.pipe.run()\n",
    "    # dali_tensor is on the GPU!"
   ]
  },
  {
   "cell_type": "code",
   "execution_count": null,
   "metadata": {},
   "outputs": [],
   "source": []
  }
 ],
 "metadata": {
  "kernelspec": {
   "display_name": "Python3",
   "language": "python3",
   "name": "python3"
  },
  "language_info": {
   "codemirror_mode": {
    "name": "ipython",
    "version": 3
   },
   "file_extension": ".py",
   "mimetype": "text/x-python",
   "name": "python",
   "nbconvert_exporter": "python",
   "pygments_lexer": "ipython3",
   "version": "3.6.9"
  },
  "widgets": {
   "application/vnd.jupyter.widget-state+json": {
    "state": {},
    "version_major": 2,
    "version_minor": 0
   }
  }
 },
 "nbformat": 4,
 "nbformat_minor": 4
}
