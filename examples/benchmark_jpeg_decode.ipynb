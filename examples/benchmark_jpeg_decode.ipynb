{
 "cells": [
  {
   "cell_type": "code",
   "execution_count": 1,
   "metadata": {},
   "outputs": [],
   "source": [
    "import io\n",
    "import time\n",
    "\n",
    "import numpy as np\n",
    "import torch\n",
    "from image_checker.checker import batch\n",
    "from image_checker.DaliChecker import DaliChecker\n",
    "from image_checker.iterators import folder_iterator\n",
    "from PIL import Image\n",
    "from torchvision import transforms as t\n",
    "from torchvision.io import decode_image, read_image\n",
    "from more_itertools import chunked\n",
    "import cv2 as cv\n",
    "import simplejpeg"
   ]
  },
  {
   "cell_type": "code",
   "execution_count": 2,
   "metadata": {},
   "outputs": [
    {
     "name": "stdout",
     "output_type": "stream",
     "text": [
      "Running performance checks.\n",
      "\n",
      "*** libjpeg-turbo status\n",
      "✔ libjpeg-turbo is on\n",
      "\n",
      "*** Pillow-SIMD status\n",
      "✔ Running Pillow-SIMD 7.0.0.post3\n",
      "\n",
      "*** CUDA status\n",
      "✔ Running the latest CUDA 10.2 with NVIDIA driver 440.33.01\n",
      "\n",
      "Refer to https://docs.fast.ai/performance.html to make sense out of these checks and suggestions.\n"
     ]
    }
   ],
   "source": [
    "!python3 -c \"import fastai.utils; fastai.utils.check_perf()\""
   ]
  },
  {
   "cell_type": "markdown",
   "metadata": {},
   "source": [
    "# Benchmarking Bytes->Tensor"
   ]
  },
  {
   "cell_type": "code",
   "execution_count": 3,
   "metadata": {},
   "outputs": [],
   "source": [
    "img_count=256\n",
    "files=folder_iterator(\"/mnt/data/dali_test/fine/\",extensions=[\"jpg\",\"jpeg\"],recursive=False)\n",
    "images_bytes=[im for im,path in files][:img_count]"
   ]
  },
  {
   "cell_type": "code",
   "execution_count": 4,
   "metadata": {},
   "outputs": [],
   "source": [
    "#doing this here so it doesn't effect time\n",
    "images_bytes_io=[io.BytesIO(i) for i in images_bytes]"
   ]
  },
  {
   "cell_type": "markdown",
   "metadata": {},
   "source": [
    "# PIL-SIMD"
   ]
  },
  {
   "cell_type": "code",
   "execution_count": 5,
   "metadata": {},
   "outputs": [
    {
     "data": {
      "text/plain": [
       "True"
      ]
     },
     "execution_count": 5,
     "metadata": {},
     "output_type": "execute_result"
    }
   ],
   "source": [
    "from PIL.features import check_feature\n",
    "check_feature(\"libjpeg_turbo\")"
   ]
  },
  {
   "cell_type": "code",
   "execution_count": 6,
   "metadata": {},
   "outputs": [
    {
     "name": "stdout",
     "output_type": "stream",
     "text": [
      "684 ms ± 18.5 ms per loop (mean ± std. dev. of 100 runs, 1 loop each)\n"
     ]
    }
   ],
   "source": [
    "%%timeit -n 1 -r 100\n",
    "# PIL_SIMD -> Tensor output\n",
    "for image_bytes in images_bytes_io:\n",
    "    z=Image.open(image_bytes)\n",
    "    z=t.functional.pil_to_tensor(z)\n",
    "#     z.to(\"cuda:0\")\n",
    "# Tensor output"
   ]
  },
  {
   "cell_type": "markdown",
   "metadata": {},
   "source": [
    "# Torchvision"
   ]
  },
  {
   "cell_type": "code",
   "execution_count": 7,
   "metadata": {},
   "outputs": [
    {
     "name": "stdout",
     "output_type": "stream",
     "text": [
      "510 ms ± 10.5 ms per loop (mean ± std. dev. of 100 runs, 1 loop each)\n"
     ]
    }
   ],
   "source": [
    "%%timeit -n 1 -r 100\n",
    "for img_bytes in images_bytes:\n",
    "    z=torch.from_numpy(img_bytes)\n",
    "#     z=z.to(\"cuda:0\")\n",
    "    z=decode_image(z)\n",
    "#     z.to(\"cuda:0\")\n",
    "# Tensor output"
   ]
  },
  {
   "cell_type": "markdown",
   "metadata": {},
   "source": [
    "# Nvidia DALI (nvJPEG on GPU)"
   ]
  },
  {
   "cell_type": "code",
   "execution_count": 8,
   "metadata": {},
   "outputs": [],
   "source": [
    "batch_size=256\n",
    "dali_decoder = DaliChecker(batch_size, prefetch=1, device='mixed') # mixed means GPU+CPU"
   ]
  },
  {
   "cell_type": "code",
   "execution_count": 9,
   "metadata": {},
   "outputs": [],
   "source": [
    "batches_of_image_bytes=list(chunked(images_bytes,batch_size))"
   ]
  },
  {
   "cell_type": "code",
   "execution_count": 10,
   "metadata": {},
   "outputs": [
    {
     "name": "stdout",
     "output_type": "stream",
     "text": [
      "193 ms ± 11.3 ms per loop (mean ± std. dev. of 100 runs, 1 loop each)\n"
     ]
    }
   ],
   "source": [
    "%%timeit -n 1 -r 100\n",
    "for image_bytes in batches_of_image_bytes:\n",
    "    dali_decoder.feed(image_bytes)\n",
    "    dali_tensor=dali_decoder.pipe.run()\n",
    "    # dali_tensor is on the GPU!\n",
    "    # Tensor output even moved to GPU"
   ]
  },
  {
   "cell_type": "markdown",
   "metadata": {},
   "source": [
    "# Nvidia DALI (on CPU)"
   ]
  },
  {
   "cell_type": "code",
   "execution_count": 11,
   "metadata": {},
   "outputs": [],
   "source": [
    "batch_size=256\n",
    "dali_decoder = DaliChecker(batch_size, prefetch=1, device='cpu')"
   ]
  },
  {
   "cell_type": "code",
   "execution_count": 12,
   "metadata": {},
   "outputs": [],
   "source": [
    "batches_of_image_bytes=list(chunked(images_bytes,batch_size))"
   ]
  },
  {
   "cell_type": "code",
   "execution_count": 13,
   "metadata": {},
   "outputs": [
    {
     "name": "stdout",
     "output_type": "stream",
     "text": [
      "497 ms ± 37.1 ms per loop (mean ± std. dev. of 100 runs, 1 loop each)\n"
     ]
    }
   ],
   "source": [
    "%%timeit -n 1 -r 100\n",
    "for image_bytes in batches_of_image_bytes:\n",
    "    dali_decoder.feed(image_bytes)\n",
    "    dali_tensor=dali_decoder.pipe.run()\n",
    "    # dali_tensor is on the CPU!"
   ]
  },
  {
   "cell_type": "markdown",
   "metadata": {},
   "source": [
    "# OPENCV"
   ]
  },
  {
   "cell_type": "code",
   "execution_count": 15,
   "metadata": {},
   "outputs": [
    {
     "name": "stdout",
     "output_type": "stream",
     "text": [
      "844 ms ± 24.7 ms per loop (mean ± std. dev. of 100 runs, 1 loop each)\n"
     ]
    }
   ],
   "source": [
    "%%timeit -n 1 -r 100\n",
    "for img_bytes in images_bytes:\n",
    "    z = cv.imdecode(img_bytes, cv.IMREAD_COLOR)\n",
    "    # z is decoded image\n",
    "    z=torch.as_tensor(z)\n",
    "    # z is Tensor on cpu"
   ]
  },
  {
   "cell_type": "code",
   "execution_count": 16,
   "metadata": {},
   "outputs": [
    {
     "name": "stdout",
     "output_type": "stream",
     "text": [
      "libjpeg-turbo (ver 2.0.2-62)\n"
     ]
    }
   ],
   "source": [
    "import re\n",
    "cv2_jpeg_lib = re.search(\n",
    "    r\".*JPEG:\\W+(?P<jpeg_lib>.*)\", cv.getBuildInformation()\n",
    ").groupdict()[\"jpeg_lib\"]\n",
    "print(cv2_jpeg_lib)"
   ]
  },
  {
   "cell_type": "markdown",
   "metadata": {},
   "source": [
    "# SimpleJpeg"
   ]
  },
  {
   "cell_type": "code",
   "execution_count": 17,
   "metadata": {},
   "outputs": [
    {
     "name": "stdout",
     "output_type": "stream",
     "text": [
      "437 ms ± 5.59 ms per loop (mean ± std. dev. of 100 runs, 1 loop each)\n"
     ]
    }
   ],
   "source": [
    "%%timeit -n 1 -r 100\n",
    "# simplejpeg\n",
    "for img_bytes in images_bytes:\n",
    "    z=simplejpeg.decode_jpeg(img_bytes, fastdct=True, fastupsample=True)\n",
    "    # z is decoded image\n",
    "    z=torch.as_tensor(z)\n",
    "    # z is Tensor on cpu"
   ]
  },
  {
   "cell_type": "code",
   "execution_count": null,
   "metadata": {},
   "outputs": [],
   "source": []
  }
 ],
 "metadata": {
  "kernelspec": {
   "display_name": "Python3",
   "language": "python3",
   "name": "python3"
  },
  "language_info": {
   "codemirror_mode": {
    "name": "ipython",
    "version": 3
   },
   "file_extension": ".py",
   "mimetype": "text/x-python",
   "name": "python",
   "nbconvert_exporter": "python",
   "pygments_lexer": "ipython3",
   "version": "3.6.9"
  },
  "widgets": {
   "application/vnd.jupyter.widget-state+json": {
    "state": {},
    "version_major": 2,
    "version_minor": 0
   }
  }
 },
 "nbformat": 4,
 "nbformat_minor": 4
}
